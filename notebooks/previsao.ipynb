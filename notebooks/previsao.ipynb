{
 "cells": [
  {
   "cell_type": "code",
   "execution_count": null,
   "metadata": {},
   "outputs": [],
   "source": [
    "import pandas as pd\n",
    "import numpy as np\n",
    "import matplotlib.pyplot as plt\n",
    "\n",
    "import tensorflow as tf\n",
    "from sklearn.preprocessing import MinMaxScaler\n",
    "\n",
    "import math"
   ]
  },
  {
   "cell_type": "code",
   "execution_count": null,
   "metadata": {},
   "outputs": [
    {
     "name": "stderr",
     "output_type": "stream",
     "text": [
      "WARNING:absl:Compiled the loaded model, but the compiled metrics have yet to be built. `model.compile_metrics` will be empty until you train or evaluate the model.\n"
     ]
    }
   ],
   "source": [
    "model = tf.keras.models.load_model('../models/btc_model.h5')"
   ]
  },
  {
   "cell_type": "code",
   "execution_count": null,
   "metadata": {},
   "outputs": [],
   "source": [
    "df = pd.read_csv('../data/raw/BTC-USD.csv')\n",
    "\n",
    "data = df.filter(['Close'])\n",
    "dataset = data.values\n",
    "\n",
    "scaler = MinMaxScaler(feature_range=(0,1))\n",
    "scaled_data = scaler.fit_transform(dataset)"
   ]
  },
  {
   "cell_type": "code",
   "execution_count": null,
   "metadata": {},
   "outputs": [],
   "source": [
    "memory_days = 60"
   ]
  },
  {
   "cell_type": "code",
   "execution_count": null,
   "metadata": {},
   "outputs": [],
   "source": [
    "training_data_len = math.ceil(len(scaled_data) * 0.8)\n",
    "\n",
    "train_data = scaled_data[:training_data_len, :]\n",
    "test_data = scaled_data[training_data_len - memory_days:, :]\n",
    "\n",
    "# Criar conjuntos de dados para treinamento\n",
    "train_X = []\n",
    "train_Y = []\n",
    "\n",
    "for i in range(memory_days, len(train_data)):\n",
    "    train_X.append(train_data[i-memory_days:i, 0])\n",
    "    train_Y.append(train_data[i, 0])\n",
    "\n",
    "# Converter para arrays numpy e redimensionar\n",
    "train_X = np.array(train_X)\n",
    "train_Y = np.array(train_Y)\n",
    "\n",
    "train_X = np.reshape(train_X, (train_X.shape[0], train_X.shape[1], 1))"
   ]
  },
  {
   "cell_type": "code",
   "execution_count": null,
   "metadata": {},
   "outputs": [],
   "source": [
    "test_X = []\n",
    "test_Y = scaled_data[training_data_len:, :]\n",
    "\n",
    "for i in range(memory_days, len(test_data)):\n",
    "    test_X.append(test_data[i-memory_days:i, 0])\n",
    "\n",
    "test_X = np.array(test_X)\n",
    "test_X = np.reshape(test_X, (test_X.shape[0], test_X.shape[1], 1))"
   ]
  },
  {
   "cell_type": "code",
   "execution_count": null,
   "metadata": {},
   "outputs": [],
   "source": [
    "# Últimos dados para previsão\n",
    "last_days_for_seven_days = scaled_data[-memory_days:]  # Pega os últimos 'memory_days' da série\n",
    "seven_day_predictions = []\n",
    "prevision_days = 7\n",
    "\n",
    "# Prever para os próximos 7 dias\n",
    "for _ in range(prevision_days):\n",
    "    # Reshape para a entrada do modelo\n",
    "    last_days_for_seven_days = np.reshape(last_days_for_seven_days, (1, 60, 1))\n",
    "    \n",
    "    # Previsão do próximo dia\n",
    "    next_price = model.predict(last_days_for_seven_days)\n",
    "    \n",
    "    # Inverter a escala\n",
    "    next_price = scaler.inverse_transform(next_price)\n",
    "    seven_day_predictions.append(next_price[0][0])\n",
    "    \n",
    "    # Atualizar last_days com a nova previsão\n",
    "    next_price_reshaped = next_price.reshape(1, 1, 1)  # Reshape para 3 dimensões\n",
    "    last_days_for_seven_days = np.append(last_days_for_seven_days[:, 1:, :], next_price_reshaped, axis=1)\n",
    "\n",
    "# Resultados das previsões\n",
    "seven_day_predictions = np.array(seven_day_predictions)\n",
    "print(\"Previsões para os próximos 7 dias:\", seven_day_predictions)\n",
    "\n",
    "import matplotlib.pyplot as plt\n",
    "\n",
    "# Supondo que você tenha 'dataset' que contém todos os dados e 'scaled_data' para as previsões\n",
    "total_data = dataset[:, 0]  # Dados reais\n",
    "train_size = len(train_data)  # Tamanho dos dados de treino\n",
    "\n",
    "# Crie um array vazio para armazenar as previsões dos próximos 7 dias\n",
    "seven_day_full_predictions = np.empty_like(total_data)\n",
    "seven_day_full_predictions[:] = np.nan  # Preencha com NaN\n",
    "\n",
    "# Preencher as previsões de 7 dias na posição correta\n",
    "seven_day_full_predictions[train_size:train_size + prevision_days] = seven_day_predictions\n",
    "\n",
    "# Configurações do gráfico\n",
    "plt.figure(figsize=(14, 7))  # Tamanho do gráfico\n",
    "plt.plot(total_data, label='Dados Reais', color='blue')  # Dados reais\n",
    "plt.plot(seven_day_full_predictions, label='Previsões para os Próximos 7 Dias', linestyle='--', color='orange')  # Previsões\n",
    "plt.title('Previsões para os Próximos 7 Dias vs Dados Reais')\n",
    "plt.xlabel('Dias')\n",
    "plt.ylabel('Preço')\n",
    "plt.legend()\n",
    "plt.show()\n"
   ]
  }
 ],
 "metadata": {
  "kernelspec": {
   "display_name": "venv",
   "language": "python",
   "name": "python3"
  },
  "language_info": {
   "name": "python",
   "version": "3.12.6"
  }
 },
 "nbformat": 4,
 "nbformat_minor": 2
}
